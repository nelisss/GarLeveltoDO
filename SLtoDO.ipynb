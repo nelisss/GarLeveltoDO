{
 "cells": [
  {
   "cell_type": "markdown",
   "metadata": {},
   "source": [
    "# Strength Level CSV to Day One CSV"
   ]
  },
  {
   "cell_type": "code",
   "execution_count": null,
   "metadata": {},
   "outputs": [],
   "source": [
    "import os\n",
    "import numpy as np\n",
    "import pandas as pd\n",
    "import matplotlib.pyplot as plt\n",
    "import tkinter as tk\n",
    "import datetime\n",
    "from tkinter import filedialog\n",
    "import ipywidgets as widgets"
   ]
  },
  {
   "cell_type": "markdown",
   "metadata": {},
   "source": [
    "### Import Strength Level CSV"
   ]
  },
  {
   "cell_type": "code",
   "execution_count": null,
   "metadata": {},
   "outputs": [],
   "source": [
    "root = tk.Tk()\n",
    "root.withdraw()\n",
    "root.call(\"wm\", \"attributes\", \".\", \"-topmost\", True)\n",
    "file_path = filedialog.askopenfilename(\n",
    "    title=\"Select Strength Level CSV\", initialdir=os.getcwd()\n",
    ")\n",
    "print(\"Selected file:\")\n",
    "print(file_path)"
   ]
  },
  {
   "cell_type": "markdown",
   "metadata": {},
   "source": [
    "### Import dataframe"
   ]
  },
  {
   "cell_type": "code",
   "execution_count": null,
   "metadata": {},
   "outputs": [],
   "source": [
    "df_SL = pd.read_csv(file_path, sep=\",\", header=0, index_col=None)"
   ]
  },
  {
   "cell_type": "markdown",
   "metadata": {},
   "source": [
    "### Summary statistics"
   ]
  },
  {
   "cell_type": "code",
   "execution_count": null,
   "metadata": {},
   "outputs": [],
   "source": [
    "n_workouts = len(np.unique(df_SL[\"Date Lifted\"]))\n",
    "print(\"Total number of workouts: {}\".format(n_workouts))\n",
    "\n",
    "exercises = np.unique(df_SL[\"Exercise\"])\n",
    "n_exercises = len(exercises)\n",
    "print(\"Number of different exercises performed: {}\".format(n_exercises))\n",
    "\n",
    "df_SL[\"Datetime\"] = [\n",
    "    datetime.datetime.strptime(date, \"%Y-%m-%d\") for date in df_SL[\"Date Lifted\"]\n",
    "]\n",
    "date_range = (df_SL[\"Datetime\"].iloc[0] - df_SL[\"Datetime\"].iloc[-1]).days\n",
    "train_frequency = n_workouts / (date_range / 7)\n",
    "print(\"Training frequency: {} workouts per week\".format(np.round(train_frequency, 1)))\n",
    "print(\" \")\n",
    "\n",
    "exercise_count = np.array(\n",
    "    [\n",
    "        len(np.unique(df_SL[\"Date Lifted\"][df_SL[\"Exercise\"] == exercise]))\n",
    "        for exercise in exercises\n",
    "    ]\n",
    ")\n",
    "exercise_sortidx = np.flip(np.argsort(exercise_count))\n",
    "exercises_sorted = exercises[exercise_sortidx]\n",
    "exercise_count_sorted = exercise_count[exercise_sortidx]\n",
    "\n",
    "exercise_sets = np.array(\n",
    "    [len(df_SL[\"Date Lifted\"][df_SL[\"Exercise\"] == exercise]) for exercise in exercises]\n",
    ")\n",
    "exercise_sets_sorted = exercise_sets[exercise_sortidx]\n",
    "\n",
    "exercise_volume = np.array(\n",
    "    [\n",
    "        np.sum(df_SL[\"Weight (kg)\"][df_SL[\"Exercise\"] == exercise])\n",
    "        for exercise in exercises\n",
    "    ]\n",
    ")\n",
    "exercise_volume_sorted = exercise_volume[exercise_sortidx]\n",
    "\n",
    "exercise_record = np.array(\n",
    "    [\n",
    "        np.max(df_SL[\"Weight (kg)\"][df_SL[\"Exercise\"] == exercise])\n",
    "        for exercise in exercises\n",
    "    ]\n",
    ")\n",
    "exercise_record_sorted = exercise_record[exercise_sortidx]\n",
    "\n",
    "exercise_record_bw = (\n",
    "    exercise_record\n",
    "    / np.array(\n",
    "        [\n",
    "            (\n",
    "                df_SL[\"Bodyweight (kg)\"][\n",
    "                    (df_SL[\"Exercise\"] == exercise)\n",
    "                    & (df_SL[\"Weight (kg)\"] == exercise_record[i])\n",
    "                ]\n",
    "            ).min()\n",
    "            for i, exercise in enumerate(exercises)\n",
    "        ]\n",
    "    )\n",
    "    * 100\n",
    ")\n",
    "exercise_record_bw_sorted = exercise_record_bw[exercise_sortidx]\n",
    "\n",
    "exercise_record_perc = np.array(\n",
    "    [\n",
    "        np.max(df_SL[\"Percentile (%)\"][df_SL[\"Exercise\"] == exercise])\n",
    "        for exercise in exercises\n",
    "    ]\n",
    ")\n",
    "exercise_record_perc_sorted = exercise_record_perc[exercise_sortidx]\n",
    "\n",
    "n_top = 6\n",
    "print(\"Top {} most performed exercises: \".format(n_top))\n",
    "for i, exercise in enumerate(exercises_sorted[:n_top]):\n",
    "    print(\n",
    "        \"     {}: \\n        {} times, \\n        {} kg max weight lifted ({}% bodyweight), \\n        {} percentile best set, \\n        {} sets, \\n        {} kg total volume\".format(\n",
    "            exercise,\n",
    "            exercise_count_sorted[i],\n",
    "            exercise_record_sorted[i],\n",
    "            np.round(exercise_record_bw_sorted[i], 1),\n",
    "            exercise_record_perc_sorted[i],\n",
    "            exercise_sets_sorted[i],\n",
    "            np.round(exercise_volume_sorted[i], 1),\n",
    "        )\n",
    "    )"
   ]
  },
  {
   "cell_type": "markdown",
   "metadata": {},
   "source": [
    "### Progress plot"
   ]
  },
  {
   "cell_type": "code",
   "execution_count": null,
   "metadata": {},
   "outputs": [],
   "source": [
    "fig, axis = plt.subplots(1,2, figsize=(12,5))\n",
    "\n",
    "for i, exercise in enumerate(exercises_sorted[:n_top]):\n",
    "    axis[0].plot(df_SL[\"Datetime\"][df_SL[\"Exercise\"] == exercise], df_SL[\"Weight (kg)\"][df_SL[\"Exercise\"] == exercise])\n",
    "    axis[1].plot(df_SL[\"Datetime\"][df_SL[\"Exercise\"] == exercise], df_SL[\"Percentile (%)\"][df_SL[\"Exercise\"] == exercise])\n",
    "\n",
    "axis[0].set_xlabel(\"Date\")\n",
    "axis[0].set_ylabel(\"Weight (kg)\")\n",
    "axis[0].set_title(\"Weight\")\n",
    "axis[0].grid()\n",
    "axis[1].set_xlabel(\"Date\")\n",
    "axis[1].set_ylabel(\"Percentile (%)\")\n",
    "axis[1].set_title(\"Percentile\")\n",
    "axis[1].grid()\n",
    "fig.legend(exercises_sorted[:n_top], loc=\"center left\", bbox_to_anchor=(0.9, 0.5))"
   ]
  },
  {
   "cell_type": "markdown",
   "metadata": {},
   "source": [
    "### Select start date"
   ]
  },
  {
   "cell_type": "code",
   "execution_count": null,
   "metadata": {},
   "outputs": [],
   "source": [
    "dates_unique = np.unique(df_SL[\"Date Lifted\"])\n",
    "\n",
    "date_select = widgets.Select(\n",
    "    options=dates_unique,\n",
    "    value=dates_unique[0],\n",
    "    description=\"Start date:\",\n",
    "    style={\"description_width\": \"initial\"},\n",
    ")\n",
    "\n",
    "confirm_button = widgets.Button(description=\"Confirm\", disabled=False)\n",
    "display(date_select, confirm_button)\n",
    "\n",
    "\n",
    "def confirm_button_func(a):\n",
    "    global start_date\n",
    "    start_date = date_select.value\n",
    "\n",
    "    print(\"Selected start date: \" + start_date)\n",
    "    return start_date\n",
    "\n",
    "\n",
    "confirm_button.on_click(confirm_button_func)"
   ]
  },
  {
   "cell_type": "markdown",
   "metadata": {},
   "source": [
    "### Rearrange dataframe"
   ]
  },
  {
   "cell_type": "code",
   "execution_count": null,
   "metadata": {},
   "outputs": [],
   "source": [
    "start_date_idx = np.where(df_SL[\"Date Lifted\"] == start_date)[0][-1]\n",
    "df_SL_select = df_SL.iloc[: start_date_idx + 1]"
   ]
  },
  {
   "cell_type": "code",
   "execution_count": null,
   "metadata": {},
   "outputs": [],
   "source": [
    "df_SL_select[\"Date Lifted\"] = [\n",
    "    (\n",
    "        datetime.datetime.strptime(item, \"%Y-%m-%d\") + datetime.timedelta(hours=12)\n",
    "    ).isoformat()\n",
    "    + \".000+02:00\"\n",
    "    for item in df_SL_select[\"Date Lifted\"]\n",
    "]\n",
    "date_DO = np.unique(df_SL_select[\"Date Lifted\"])\n",
    "text_DO = []\n",
    "\n",
    "for i, date in enumerate(date_DO):\n",
    "    df_date = df_SL_select[df_SL_select[\"Date Lifted\"] == date]\n",
    "    _, idx = np.unique(df_date[\"Exercise\"], return_index=True)\n",
    "    sorted_idx = np.sort(idx)\n",
    "    exercises = df_date[\"Exercise\"].iloc[sorted_idx]\n",
    "\n",
    "    date_str = \"\"\n",
    "\n",
    "    for j, exercise in enumerate(exercises):\n",
    "        weights = np.unique(df_date[\"Weight (kg)\"][df_date[\"Exercise\"] == exercise])\n",
    "        exercise_str = exercise + \" \"\n",
    "        for k, weight in enumerate(weights):\n",
    "            if k == 0:\n",
    "                exercise_str = (\n",
    "                    exercise_str + str(np.round(weight, decimals=1)) + \" kg: \"\n",
    "                )\n",
    "            else:\n",
    "                exercise_str = (\n",
    "                    exercise_str + \" | \" + str(np.round(weight, decimals=1)) + \" kg: \"\n",
    "                )\n",
    "            reps = df_date[\"Reps\"][\n",
    "                (df_date[\"Exercise\"] == exercise) & (df_date[\"Weight (kg)\"] == weight)\n",
    "            ]\n",
    "            _, idx = np.unique(reps, return_index=True)\n",
    "            sorted_idx = np.sort(idx)\n",
    "            unique_reps = reps.iloc[sorted_idx]\n",
    "            for l, unique_rep in enumerate(unique_reps):\n",
    "                n_sets = np.sum(reps == unique_rep)\n",
    "                if l == len(unique_reps) - 1:\n",
    "                    exercise_str = exercise_str + str(n_sets) + \"x\" + str(unique_rep)\n",
    "                else:\n",
    "                    exercise_str = (\n",
    "                        exercise_str + str(n_sets) + \"x\" + str(unique_rep) + \", \"\n",
    "                    )\n",
    "\n",
    "        if j == 0:\n",
    "            date_str = date_str + exercise_str\n",
    "        else:\n",
    "            date_str = date_str + \"\\n\" + exercise_str\n",
    "\n",
    "    date_str = \"Workout \" + date[:10] + \"\\n\" + date_str\n",
    "    text_DO.append(date_str)\n",
    "\n",
    "df_DO = pd.DataFrame({\"date\": date_DO, \"text\": text_DO})"
   ]
  },
  {
   "cell_type": "markdown",
   "metadata": {},
   "source": [
    "### Export to CSV"
   ]
  },
  {
   "cell_type": "code",
   "execution_count": null,
   "metadata": {},
   "outputs": [],
   "source": [
    "csv_name = \"SLtoDO_\" + start_date + \"_\" + str(date_DO[-1][:10]) + \".csv\"\n",
    "df_DO.to_csv(\"Output/\" + csv_name, sep=\",\", header=True, index=False)"
   ]
  }
 ],
 "metadata": {
  "kernelspec": {
   "display_name": "Python 3",
   "language": "python",
   "name": "python3"
  },
  "language_info": {
   "codemirror_mode": {
    "name": "ipython",
    "version": 3
   },
   "file_extension": ".py",
   "mimetype": "text/x-python",
   "name": "python",
   "nbconvert_exporter": "python",
   "pygments_lexer": "ipython3",
   "version": "3.11.9"
  }
 },
 "nbformat": 4,
 "nbformat_minor": 2
}
