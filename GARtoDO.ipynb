{
 "cells": [
  {
   "cell_type": "markdown",
   "metadata": {},
   "source": [
    "# Garmin CSV to Day One CSV"
   ]
  },
  {
   "cell_type": "code",
   "execution_count": null,
   "metadata": {},
   "outputs": [],
   "source": [
    "import os\n",
    "import numpy as np\n",
    "import pandas as pd\n",
    "import matplotlib.pyplot as plt\n",
    "import tkinter as tk\n",
    "import datetime\n",
    "from tkinter import filedialog\n",
    "import ipywidgets as widgets"
   ]
  },
  {
   "cell_type": "markdown",
   "metadata": {},
   "source": [
    "### Import Garmin CSV"
   ]
  },
  {
   "cell_type": "code",
   "execution_count": null,
   "metadata": {},
   "outputs": [],
   "source": [
    "root = tk.Tk()\n",
    "root.withdraw()\n",
    "root.call(\"wm\", \"attributes\", \".\", \"-topmost\", True)\n",
    "file_path = filedialog.askopenfilename(\n",
    "    title=\"Select Garmin CSV\", initialdir=os.getcwd()\n",
    ")\n",
    "print(\"Selected file:\")\n",
    "print(file_path)"
   ]
  },
  {
   "cell_type": "markdown",
   "metadata": {},
   "source": [
    "### Import dataframe"
   ]
  },
  {
   "cell_type": "code",
   "execution_count": null,
   "metadata": {},
   "outputs": [],
   "source": [
    "df_gar = pd.read_csv(file_path, sep=\",\", header=0, index_col=None)"
   ]
  },
  {
   "cell_type": "markdown",
   "metadata": {},
   "source": [
    "### Summary statistics"
   ]
  },
  {
   "cell_type": "code",
   "execution_count": null,
   "metadata": {},
   "outputs": [],
   "source": [
    "n_workouts = len(df_gar[\"Activity Type\"])\n",
    "print(\"Total number of workouts: {}\".format(n_workouts))\n",
    "\n",
    "activity_types = np.unique(df_gar[\"Activity Type\"])\n",
    "n_activity_types = np.zeros(len(activity_types))\n",
    "for i, activity_type in enumerate(activity_types):\n",
    "    n_activity_types[i] = len(\n",
    "        df_gar[\"Activity Type\"][df_gar[\"Activity Type\"] == activity_type]\n",
    "    )\n",
    "\n",
    "activity_type_sort_idx = np.flip(np.argsort(n_activity_types))\n",
    "activity_types_sorted = activity_types[activity_type_sort_idx]\n",
    "n_activity_types_sorted = n_activity_types[activity_type_sort_idx]\n",
    "\n",
    "for i, activity_type in enumerate(activity_types_sorted):\n",
    "    print(\n",
    "        \"     {}: {} {}\".format(\n",
    "            activity_type,\n",
    "            int(n_activity_types_sorted[i]),\n",
    "            (\"activities\" if int(n_activity_types_sorted[i]) > 1 else \"activity\"),\n",
    "        )\n",
    "    )\n",
    "\n",
    "print(\" \")"
   ]
  },
  {
   "cell_type": "markdown",
   "metadata": {},
   "source": [
    "### Select start date"
   ]
  },
  {
   "cell_type": "code",
   "execution_count": null,
   "metadata": {},
   "outputs": [],
   "source": [
    "dates_unique = np.unique(df_gar[\"Date\"])\n",
    "dates_unique_str = np.array([date[:10] for date in dates_unique])\n",
    "\n",
    "date_select = widgets.Select(\n",
    "    options=dates_unique_str,\n",
    "    value=dates_unique_str[0],\n",
    "    description=\"Start date:\",\n",
    "    style={\"description_width\": \"initial\"},\n",
    ")\n",
    "\n",
    "confirm_button = widgets.Button(description=\"Confirm\", disabled=False)\n",
    "display(date_select, confirm_button)\n",
    "\n",
    "\n",
    "def confirm_button_func(a):\n",
    "    global start_date_str\n",
    "    start_date_str = date_select.value\n",
    "\n",
    "    print(\"Selected start date: \" + start_date_str)\n",
    "    return start_date_str\n",
    "\n",
    "\n",
    "confirm_button.on_click(confirm_button_func)"
   ]
  },
  {
   "cell_type": "markdown",
   "metadata": {},
   "source": [
    "### Rearrange dataframe"
   ]
  },
  {
   "cell_type": "code",
   "execution_count": null,
   "metadata": {},
   "outputs": [],
   "source": [
    "start_date = df_gar[\"Date\"][np.flip(dates_unique_str == start_date_str)].iloc[0]\n",
    "start_date_idx = np.where(df_gar[\"Date\"] == start_date)[0][0]\n",
    "df_gar_select = df_gar.iloc[: start_date_idx + 1]\n",
    "\n",
    "df_gar_select[\"Date\"] = [\n",
    "    (datetime.datetime.strptime(item, \"%Y-%m-%d %H:%M:%S\")).isoformat() + \".000+02:00\"\n",
    "    for item in df_gar_select[\"Date\"]\n",
    "]"
   ]
  },
  {
   "cell_type": "code",
   "execution_count": null,
   "metadata": {},
   "outputs": [],
   "source": [
    "date_DO = np.array(df_gar_select[\"Date\"])\n",
    "text_DO = []\n",
    "\n",
    "count = 0\n",
    "for i, date in enumerate(date_DO):\n",
    "\n",
    "    if df_gar_select[\"Activity Type\"][df_gar_select[\"Date\"] == date].values in [\n",
    "        \"Running\",\n",
    "        \"Hiking\",\n",
    "        \"Walking\",\n",
    "    ]:\n",
    "        row = df_gar_select[df_gar_select[\"Date\"] == date]\n",
    "\n",
    "        activity_str = \"{}: {} \\n{} km in {}, average pace: {} min/km, max. pace: {} min/km\\nAverage HR: {} bpm, max. HR: {} bpm \\nTotal ascent: {} m\".format(\n",
    "            row[\"Activity Type\"].values[0],\n",
    "            row[\"Title\"].values[0],\n",
    "            row[\"Distance\"].values[0],\n",
    "            row[\"Time\"].values[0],\n",
    "            row[\"Avg Speed\"].values[0],\n",
    "            row[\"Max Speed\"].values[0],\n",
    "            (\n",
    "                int(row[\"Avg HR\"].values[0])\n",
    "                if not np.isnan(row[\"Avg HR\"].values[0])\n",
    "                else \"-\"\n",
    "            ),\n",
    "            (\n",
    "                int(row[\"Max HR\"].values[0])\n",
    "                if not np.isnan(row[\"Max HR\"].values[0])\n",
    "                else \"-\"\n",
    "            ),\n",
    "            row[\"Total Ascent\"].values[0],\n",
    "        )\n",
    "\n",
    "        text_DO.append(activity_str)\n",
    "    elif df_gar_select[\"Activity Type\"][df_gar_select[\"Date\"] == date].values in [\n",
    "        \"Cycling\",\n",
    "        \"Mountain Biking\",\n",
    "    ]:\n",
    "        row = df_gar_select[df_gar_select[\"Date\"] == date]\n",
    "\n",
    "        activity_str = \"{}: {} \\n{} km in {}, average speed: {} km/h, max. speed: {} km/h\\nAverage HR: {} bpm, max. HR: {} bpm \\nTotal ascent: {} m\".format(\n",
    "            row[\"Activity Type\"].values[0],\n",
    "            row[\"Title\"].values[0],\n",
    "            row[\"Distance\"].values[0],\n",
    "            row[\"Time\"].values[0],\n",
    "            row[\"Avg Speed\"].values[0],\n",
    "            row[\"Max Speed\"].values[0],\n",
    "            (\n",
    "                int(row[\"Avg HR\"].values[0])\n",
    "                if not np.isnan(row[\"Avg HR\"].values[0])\n",
    "                else \"-\"\n",
    "            ),\n",
    "            (\n",
    "                int(row[\"Max HR\"].values[0])\n",
    "                if not np.isnan(row[\"Max HR\"].values[0])\n",
    "                else \"-\"\n",
    "            ),\n",
    "            row[\"Total Ascent\"].values[0],\n",
    "        )\n",
    "\n",
    "        text_DO.append(activity_str)\n",
    "    elif df_gar_select[\"Activity Type\"][df_gar_select[\"Date\"] == date].values in [\n",
    "        \"Open Water Swimming\",\n",
    "        \"Pool Swim\",\n",
    "    ]:\n",
    "        row = df_gar_select[df_gar_select[\"Date\"] == date]\n",
    "\n",
    "        activity_str = \"{}: {} \\n{} m in {}, average speed: {} min/100m, max. speed: {} min/100m\".format(\n",
    "            row[\"Activity Type\"].values[0],\n",
    "            row[\"Title\"].values[0],\n",
    "            row[\"Distance\"].values[0],\n",
    "            row[\"Time\"].values[0],\n",
    "            row[\"Avg Speed\"].values[0],\n",
    "            row[\"Max Speed\"].values[0],\n",
    "        )\n",
    "\n",
    "        text_DO.append(activity_str)\n",
    "    else:\n",
    "        row = df_gar_select[df_gar_select[\"Date\"] == date]\n",
    "\n",
    "        activity_str = \"{}: {} \\nDuration: {}\\nAverage HR: {} bpm, max. HR: {} bpm \".format(\n",
    "            row[\"Activity Type\"].values[0],\n",
    "            row[\"Title\"].values[0],\n",
    "            row[\"Time\"].values[0],\n",
    "            (\n",
    "                int(row[\"Avg HR\"].values[0])\n",
    "                if not np.isnan(row[\"Avg HR\"].values[0])\n",
    "                else \"-\"\n",
    "            ),\n",
    "            (\n",
    "                int(row[\"Max HR\"].values[0])\n",
    "                if not np.isnan(row[\"Max HR\"].values[0])\n",
    "                else \"-\"\n",
    "            ),\n",
    "        )\n",
    "\n",
    "        text_DO.append(activity_str)\n",
    "\n",
    "df_DO = pd.DataFrame({\"date\": date_DO, \"text\": text_DO})"
   ]
  },
  {
   "cell_type": "markdown",
   "metadata": {},
   "source": [
    "### Export to CSV"
   ]
  },
  {
   "cell_type": "code",
   "execution_count": null,
   "metadata": {},
   "outputs": [],
   "source": [
    "csv_name = \"GARtoDO_\" + start_date[:10] + \"_\" + str(date_DO[0][:10]) + \".csv\"\n",
    "df_DO.to_csv(\"Output/\" + csv_name, sep=\",\", header=True, index=False)"
   ]
  }
 ],
 "metadata": {
  "kernelspec": {
   "display_name": "Python 3",
   "language": "python",
   "name": "python3"
  },
  "language_info": {
   "codemirror_mode": {
    "name": "ipython",
    "version": 3
   },
   "file_extension": ".py",
   "mimetype": "text/x-python",
   "name": "python",
   "nbconvert_exporter": "python",
   "pygments_lexer": "ipython3",
   "version": "3.11.4"
  }
 },
 "nbformat": 4,
 "nbformat_minor": 2
}
